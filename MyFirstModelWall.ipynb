{
 "cells": [
  {
   "cell_type": "markdown",
   "id": "50e2aac9-bb79-41e5-a8cf-65acb84e17e7",
   "metadata": {},
   "source": [
    "# Project: modelling a thermal building"
   ]
  },
  {
   "cell_type": "markdown",
   "id": "b08c1d0a-a4dd-4104-86d8-aaee7483b33b",
   "metadata": {},
   "source": [
    "Intro: What we are modelling and how\n",
    "\n",
    "In this simple example we are modelling a simple wall"
   ]
  },
  {
   "cell_type": "code",
   "execution_count": 1,
   "id": "24c0a034-9685-4201-85c4-868878389a94",
   "metadata": {},
   "outputs": [],
   "source": [
    "import numpy as np\n",
    "import pandas as pd\n",
    "import matplotlib.pyplot as plt\n",
    "import dm4bem"
   ]
  },
  {
   "cell_type": "markdown",
   "id": "79f00450-dbc6-41bd-93da-e8ab42231af9",
   "metadata": {},
   "source": [
    "#insert image\n",
    "\n",
    "![wall](walldrawing.jpeg)"
   ]
  },
  {
   "cell_type": "markdown",
   "id": "d7761e5f-2e6a-418f-b79c-b8534ef483ba",
   "metadata": {},
   "source": [
    "Now we must insert the properties of the wall and of air"
   ]
  },
  {
   "cell_type": "code",
   "execution_count": 2,
   "id": "2e3326e6-9e8f-4a99-8d49-61a34ffd1caf",
   "metadata": {},
   "outputs": [
    {
     "data": {
      "text/html": [
       "<div>\n",
       "<style scoped>\n",
       "    .dataframe tbody tr th:only-of-type {\n",
       "        vertical-align: middle;\n",
       "    }\n",
       "\n",
       "    .dataframe tbody tr th {\n",
       "        vertical-align: top;\n",
       "    }\n",
       "\n",
       "    .dataframe thead th {\n",
       "        text-align: right;\n",
       "    }\n",
       "</style>\n",
       "<table border=\"1\" class=\"dataframe\">\n",
       "  <thead>\n",
       "    <tr style=\"text-align: right;\">\n",
       "      <th></th>\n",
       "      <th>Conductivity</th>\n",
       "      <th>Density</th>\n",
       "      <th>Specific heat</th>\n",
       "      <th>Width</th>\n",
       "      <th>Meshes</th>\n",
       "    </tr>\n",
       "  </thead>\n",
       "  <tbody>\n",
       "    <tr>\n",
       "      <th>Concrete</th>\n",
       "      <td>1.4</td>\n",
       "      <td>2300.0</td>\n",
       "      <td>880</td>\n",
       "      <td>0.2</td>\n",
       "      <td>4</td>\n",
       "    </tr>\n",
       "  </tbody>\n",
       "</table>\n",
       "</div>"
      ],
      "text/plain": [
       "          Conductivity  Density  Specific heat  Width  Meshes\n",
       "Concrete           1.4   2300.0            880    0.2       4"
      ]
     },
     "execution_count": 2,
     "metadata": {},
     "output_type": "execute_result"
    }
   ],
   "source": [
    "# Physical properties of the wall and of air\n",
    "# ===================\n",
    "wall = {'Conductivity': [1.400],\n",
    "        'Density': [2300.0],\n",
    "        'Specific heat': [880],\n",
    "        'Width': [0.2],\n",
    "        'Meshes': [4]}\n",
    "wall = pd.DataFrame(wall, index=['Concrete'])\n",
    "wall"
   ]
  },
  {
   "cell_type": "code",
   "execution_count": 3,
   "id": "14a37280-9d29-4f48-9e93-6facd1f79181",
   "metadata": {},
   "outputs": [
    {
     "data": {
      "text/html": [
       "<div>\n",
       "<style scoped>\n",
       "    .dataframe tbody tr th:only-of-type {\n",
       "        vertical-align: middle;\n",
       "    }\n",
       "\n",
       "    .dataframe tbody tr th {\n",
       "        vertical-align: top;\n",
       "    }\n",
       "\n",
       "    .dataframe thead th {\n",
       "        text-align: right;\n",
       "    }\n",
       "</style>\n",
       "<table border=\"1\" class=\"dataframe\">\n",
       "  <thead>\n",
       "    <tr style=\"text-align: right;\">\n",
       "      <th></th>\n",
       "      <th>Density</th>\n",
       "      <th>Specific heat</th>\n",
       "    </tr>\n",
       "  </thead>\n",
       "  <tbody>\n",
       "    <tr>\n",
       "      <th>Air</th>\n",
       "      <td>1.2</td>\n",
       "      <td>1000</td>\n",
       "    </tr>\n",
       "  </tbody>\n",
       "</table>\n",
       "</div>"
      ],
      "text/plain": [
       "     Density  Specific heat\n",
       "Air      1.2           1000"
      ]
     },
     "execution_count": 3,
     "metadata": {},
     "output_type": "execute_result"
    }
   ],
   "source": [
    "air = {'Density': 1.2,\n",
    "       'Specific heat': 1000}\n",
    "\n",
    "pd.DataFrame(air, index=['Air'])"
   ]
  },
  {
   "cell_type": "markdown",
   "id": "6f79d021-3124-4465-9a01-0be5196ff283",
   "metadata": {},
   "source": [
    "More required inputs are convection coefficiens"
   ]
  },
  {
   "cell_type": "code",
   "execution_count": 4,
   "id": "55746d0f-c4e9-48b1-886c-099551461ffb",
   "metadata": {},
   "outputs": [
    {
     "data": {
      "text/html": [
       "<div>\n",
       "<style scoped>\n",
       "    .dataframe tbody tr th:only-of-type {\n",
       "        vertical-align: middle;\n",
       "    }\n",
       "\n",
       "    .dataframe tbody tr th {\n",
       "        vertical-align: top;\n",
       "    }\n",
       "\n",
       "    .dataframe thead th {\n",
       "        text-align: right;\n",
       "    }\n",
       "</style>\n",
       "<table border=\"1\" class=\"dataframe\">\n",
       "  <thead>\n",
       "    <tr style=\"text-align: right;\">\n",
       "      <th></th>\n",
       "      <th>in</th>\n",
       "      <th>out</th>\n",
       "    </tr>\n",
       "  </thead>\n",
       "  <tbody>\n",
       "    <tr>\n",
       "      <th>h</th>\n",
       "      <td>4.0</td>\n",
       "      <td>10.0</td>\n",
       "    </tr>\n",
       "  </tbody>\n",
       "</table>\n",
       "</div>"
      ],
      "text/plain": [
       "    in   out\n",
       "h  4.0  10.0"
      ]
     },
     "execution_count": 4,
     "metadata": {},
     "output_type": "execute_result"
    }
   ],
   "source": [
    "# convection coefficients, W/(m²·K)\n",
    "h = pd.DataFrame([{'in': 4., 'out': 10.}], index=['h'])\n",
    "h"
   ]
  },
  {
   "cell_type": "markdown",
   "id": "24c69f0b-83a6-47ad-8cb9-c9a3cda96593",
   "metadata": {},
   "source": [
    "Then we need the dimensions of the wall"
   ]
  },
  {
   "cell_type": "code",
   "execution_count": 5,
   "id": "a7317632-b40b-4565-baac-a30767c4c1ca",
   "metadata": {},
   "outputs": [],
   "source": [
    "S_wall = 3 * 3      # m², wall surface area\n",
    "V_air = 3 * 3 * 3   # m³, indoor air volume"
   ]
  },
  {
   "cell_type": "markdown",
   "id": "644d3368-ef66-49d5-bcea-b7d0776a7472",
   "metadata": {},
   "source": [
    "Now we can calculate the thermal conduction based on the dimensons of the wall"
   ]
  },
  {
   "cell_type": "code",
   "execution_count": 6,
   "id": "e893449e-aefa-4670-85f8-d61749f884ad",
   "metadata": {},
   "outputs": [],
   "source": [
    "# conduction, convection (resistances)\n",
    "R_cd = wall['Width'] / (wall['Conductivity'] * S_wall)  # K/W\n",
    "R_cv = 1 / (h * S_wall)     # K/W"
   ]
  },
  {
   "cell_type": "markdown",
   "id": "0d1dc71c-f950-44ef-817f-0c7a86026bee",
   "metadata": {},
   "source": [
    "Now the thermal capacity of the wall"
   ]
  },
  {
   "cell_type": "code",
   "execution_count": 7,
   "id": "2b8e59f5-a5e5-45b2-87aa-4a022484c227",
   "metadata": {},
   "outputs": [],
   "source": [
    "C_wall = wall['Density'] * wall['Specific heat'] * wall['Width'] * S_wall"
   ]
  },
  {
   "cell_type": "markdown",
   "id": "469f5a0c-f7dd-4f4f-a305-91714c5d650f",
   "metadata": {},
   "source": [
    "We can start with the matrices\n",
    "\n",
    "A - incidence matrix\n",
    "\n",
    "G - Conductance matrix\n",
    "\n",
    "C - Capacity matrix"
   ]
  },
  {
   "cell_type": "code",
   "execution_count": 8,
   "id": "54cd61cd-90a1-41ba-8345-12bda2f8111d",
   "metadata": {},
   "outputs": [
    {
     "data": {
      "text/html": [
       "<div>\n",
       "<style scoped>\n",
       "    .dataframe tbody tr th:only-of-type {\n",
       "        vertical-align: middle;\n",
       "    }\n",
       "\n",
       "    .dataframe tbody tr th {\n",
       "        vertical-align: top;\n",
       "    }\n",
       "\n",
       "    .dataframe thead th {\n",
       "        text-align: right;\n",
       "    }\n",
       "</style>\n",
       "<table border=\"1\" class=\"dataframe\">\n",
       "  <thead>\n",
       "    <tr style=\"text-align: right;\">\n",
       "      <th></th>\n",
       "      <th>0</th>\n",
       "      <th>1</th>\n",
       "      <th>2</th>\n",
       "    </tr>\n",
       "  </thead>\n",
       "  <tbody>\n",
       "    <tr>\n",
       "      <th>0</th>\n",
       "      <td>1.0</td>\n",
       "      <td>0.0</td>\n",
       "      <td>0.0</td>\n",
       "    </tr>\n",
       "    <tr>\n",
       "      <th>1</th>\n",
       "      <td>-1.0</td>\n",
       "      <td>1.0</td>\n",
       "      <td>0.0</td>\n",
       "    </tr>\n",
       "    <tr>\n",
       "      <th>2</th>\n",
       "      <td>0.0</td>\n",
       "      <td>-1.0</td>\n",
       "      <td>1.0</td>\n",
       "    </tr>\n",
       "  </tbody>\n",
       "</table>\n",
       "</div>"
      ],
      "text/plain": [
       "     0    1    2\n",
       "0  1.0  0.0  0.0\n",
       "1 -1.0  1.0  0.0\n",
       "2  0.0 -1.0  1.0"
      ]
     },
     "execution_count": 8,
     "metadata": {},
     "output_type": "execute_result"
    }
   ],
   "source": [
    "A = np.zeros([3,3])\n",
    "A[0, 0] = 1                 # branch 0: -> node 0\n",
    "A[1, 0], A[1, 1] = -1, 1    # branch 1: node 0 -> node 1\n",
    "A[2, 1], A[2, 2] = -1, 1    # branch 2: node 1 -> node 2\n",
    "pd.DataFrame(A)"
   ]
  },
  {
   "cell_type": "code",
   "execution_count": 9,
   "id": "28a8c786-d82f-4de6-8a5d-b8a24eb697a6",
   "metadata": {},
   "outputs": [
    {
     "data": {
      "text/html": [
       "<div>\n",
       "<style scoped>\n",
       "    .dataframe tbody tr th:only-of-type {\n",
       "        vertical-align: middle;\n",
       "    }\n",
       "\n",
       "    .dataframe tbody tr th {\n",
       "        vertical-align: top;\n",
       "    }\n",
       "\n",
       "    .dataframe thead th {\n",
       "        text-align: right;\n",
       "    }\n",
       "</style>\n",
       "<table border=\"1\" class=\"dataframe\">\n",
       "  <thead>\n",
       "    <tr style=\"text-align: right;\">\n",
       "      <th></th>\n",
       "      <th>0</th>\n",
       "      <th>1</th>\n",
       "      <th>2</th>\n",
       "    </tr>\n",
       "  </thead>\n",
       "  <tbody>\n",
       "    <tr>\n",
       "      <th>0</th>\n",
       "      <td>1</td>\n",
       "      <td>0</td>\n",
       "      <td>0</td>\n",
       "    </tr>\n",
       "    <tr>\n",
       "      <th>1</th>\n",
       "      <td>0</td>\n",
       "      <td>2</td>\n",
       "      <td>0</td>\n",
       "    </tr>\n",
       "    <tr>\n",
       "      <th>2</th>\n",
       "      <td>0</td>\n",
       "      <td>0</td>\n",
       "      <td>2</td>\n",
       "    </tr>\n",
       "  </tbody>\n",
       "</table>\n",
       "</div>"
      ],
      "text/plain": [
       "   0  1  2\n",
       "0  1  0  0\n",
       "1  0  2  0\n",
       "2  0  0  2"
      ]
     },
     "execution_count": 9,
     "metadata": {},
     "output_type": "execute_result"
    }
   ],
   "source": [
    "G = np.diag([1,2,2])\n",
    "pd.DataFrame(G)"
   ]
  },
  {
   "cell_type": "code",
   "execution_count": 10,
   "id": "d8a16232-499a-4920-856e-bc7a8dfe7605",
   "metadata": {},
   "outputs": [
    {
     "data": {
      "text/html": [
       "<div>\n",
       "<style scoped>\n",
       "    .dataframe tbody tr th:only-of-type {\n",
       "        vertical-align: middle;\n",
       "    }\n",
       "\n",
       "    .dataframe tbody tr th {\n",
       "        vertical-align: top;\n",
       "    }\n",
       "\n",
       "    .dataframe thead th {\n",
       "        text-align: right;\n",
       "    }\n",
       "</style>\n",
       "<table border=\"1\" class=\"dataframe\">\n",
       "  <thead>\n",
       "    <tr style=\"text-align: right;\">\n",
       "      <th></th>\n",
       "      <th>0</th>\n",
       "      <th>1</th>\n",
       "      <th>2</th>\n",
       "    </tr>\n",
       "  </thead>\n",
       "  <tbody>\n",
       "    <tr>\n",
       "      <th>0</th>\n",
       "      <td>0</td>\n",
       "      <td>0</td>\n",
       "      <td>0</td>\n",
       "    </tr>\n",
       "    <tr>\n",
       "      <th>1</th>\n",
       "      <td>0</td>\n",
       "      <td>5</td>\n",
       "      <td>0</td>\n",
       "    </tr>\n",
       "    <tr>\n",
       "      <th>2</th>\n",
       "      <td>0</td>\n",
       "      <td>0</td>\n",
       "      <td>0</td>\n",
       "    </tr>\n",
       "  </tbody>\n",
       "</table>\n",
       "</div>"
      ],
      "text/plain": [
       "   0  1  2\n",
       "0  0  0  0\n",
       "1  0  5  0\n",
       "2  0  0  0"
      ]
     },
     "execution_count": 10,
     "metadata": {},
     "output_type": "execute_result"
    }
   ],
   "source": [
    "C = np.diag([0,5,0])\n",
    "pd.DataFrame(C)"
   ]
  },
  {
   "cell_type": "markdown",
   "id": "d7f2a2c8-f08d-4948-a5f8-c64dce4eb168",
   "metadata": {},
   "source": [
    "The sources are only one: temperature source"
   ]
  },
  {
   "cell_type": "code",
   "execution_count": 11,
   "id": "c438cf33-6c72-4d76-af2b-ed9333aaf561",
   "metadata": {},
   "outputs": [
    {
     "name": "stdout",
     "output_type": "stream",
     "text": [
      "[20.  0.  0.]\n",
      "[0. 0. 1.]\n"
     ]
    }
   ],
   "source": [
    "b = np.zeros(3)\n",
    "b[0]=20\n",
    "f = np.zeros(3)\n",
    "y = np.zeros(3)\n",
    "y[-1] = 1\n",
    "print(b)\n",
    "print(y)"
   ]
  },
  {
   "cell_type": "markdown",
   "id": "d303aae7-4491-4f83-82bb-ceb670785236",
   "metadata": {},
   "source": [
    "We can solve the steady state modl to see that there is nothing wrong"
   ]
  },
  {
   "cell_type": "code",
   "execution_count": 12,
   "id": "d6c86cd0-9c7d-4abb-bc33-1c509eeed20b",
   "metadata": {},
   "outputs": [
    {
     "name": "stdout",
     "output_type": "stream",
     "text": [
      "[20. 20. 20.]\n"
     ]
    }
   ],
   "source": [
    "θ = np.linalg.inv(A.T @ G @ A) @ (A.T @ G @ b)\n",
    "print(θ)"
   ]
  },
  {
   "cell_type": "markdown",
   "id": "3eb19d9a-4888-4a09-91c8-b5ac1bb5a00a",
   "metadata": {},
   "source": [
    "Now that the steady state model is not wrong, we can go fot the dynamic model, using state space equations"
   ]
  },
  {
   "cell_type": "code",
   "execution_count": 13,
   "id": "2f772cab-c4e9-4a3c-8b61-abd0c308c6b8",
   "metadata": {},
   "outputs": [
    {
     "name": "stdout",
     "output_type": "stream",
     "text": [
      "As = \n",
      " [[-0.13333333]] \n",
      "\n",
      "Bs = \n",
      " [[0.13333333]] \n",
      "\n",
      "Cs = \n",
      " [[1.]] \n",
      "\n",
      "Ds = \n",
      " [[0.]] \n",
      "\n"
     ]
    }
   ],
   "source": [
    "[As, Bs, Cs, Ds] = dm4bem.tc2ss(A, G, b, C, f, y)\n",
    "print('As = \\n', As, '\\n')\n",
    "print('Bs = \\n', Bs, '\\n')\n",
    "print('Cs = \\n', Cs, '\\n')\n",
    "print('Ds = \\n', Ds, '\\n')"
   ]
  },
  {
   "cell_type": "markdown",
   "id": "4978ab11-f387-4885-89d0-20b7fbb3407a",
   "metadata": {},
   "source": [
    "To be sure the model is correct, I must check that the steady state of the state space representation is the same as the algeb"
   ]
  },
  {
   "cell_type": "code",
   "execution_count": 14,
   "id": "d8282449-2dd8-4199-9f38-ce35ce17c294",
   "metadata": {},
   "outputs": [
    {
     "name": "stdout",
     "output_type": "stream",
     "text": [
      "u = [20]\n",
      "yss = [20.] °C\n"
     ]
    }
   ],
   "source": [
    "bT = np.array([20,0,0])     # [To, To, To, Tisp]\n",
    "fQ = np.array([0, 0, 0])         # [Φo, Φi, Qa, Φa]\n",
    "u = np.array([20])\n",
    "print(f'u = {u}')\n",
    "yss = (-Cs @ np.linalg.inv(As) @ Bs + Ds) @ u.T\n",
    "print(f'yss = {yss} °C')"
   ]
  },
  {
   "cell_type": "code",
   "execution_count": 15,
   "id": "c29072ab-4b37-484e-84d5-4d2131f7c0b3",
   "metadata": {
    "tags": []
   },
   "outputs": [
    {
     "name": "stdout",
     "output_type": "stream",
     "text": [
      "Max error between DAE and state-space: 7.11e-15 °C\n"
     ]
    }
   ],
   "source": [
    "print(f'Max error between DAE and state-space: \\\n",
    "{max(abs(θ[2] - yss)):.2e} °C')"
   ]
  },
  {
   "cell_type": "markdown",
   "id": "5ca3ba86-17c4-43a9-adca-5b3c129f2377",
   "metadata": {},
   "source": [
    "The error is accpetable"
   ]
  },
  {
   "cell_type": "markdown",
   "id": "671d51af-03c9-4c4a-8c5e-e3b06257e0b8",
   "metadata": {},
   "source": [
    "## Now the time step"
   ]
  },
  {
   "cell_type": "code",
   "execution_count": 16,
   "id": "e508d236-a93b-4e89-aca8-6a33121a6cb2",
   "metadata": {},
   "outputs": [
    {
     "name": "stdout",
     "output_type": "stream",
     "text": [
      "Time constants: \n",
      " [7.5] s \n",
      "\n",
      "2 x Time constants: \n",
      " [15.] s \n",
      "\n",
      "Maximum time step: 15.00 s \n"
     ]
    }
   ],
   "source": [
    "λ = np.linalg.eig(As)[0]    # eigenvalues of matrix As\n",
    "print('Time constants: \\n', -1 / λ, 's \\n')\n",
    "print('2 x Time constants: \\n', -2 / λ, 's \\n')\n",
    "dtmax = min(-2. / λ)\n",
    "print(f'Maximum time step: {dtmax:.2f} s ')"
   ]
  },
  {
   "cell_type": "code",
   "execution_count": 17,
   "id": "0f5d9ed2-5b68-4a89-bd86-6e24a133fc55",
   "metadata": {},
   "outputs": [
    {
     "name": "stdout",
     "output_type": "stream",
     "text": [
      "dt = 1 s\n"
     ]
    }
   ],
   "source": [
    "dt = 1     # seconds\n",
    "print(f'dt = {dt} s')"
   ]
  },
  {
   "cell_type": "markdown",
   "id": "e8858d7d-7ac2-4273-8503-59c264419523",
   "metadata": {},
   "source": [
    "Then once the time step is defined, we can define the settling time"
   ]
  },
  {
   "cell_type": "code",
   "execution_count": 18,
   "id": "480bd1ac-0ff6-4e18-9ad9-b2e561554a4c",
   "metadata": {},
   "outputs": [
    {
     "name": "stdout",
     "output_type": "stream",
     "text": [
      "Time constants: \n",
      " [7.5] s \n",
      "\n",
      "Settling time: 30 s\n"
     ]
    }
   ],
   "source": [
    "t_resp = 4 * max(-1 / λ)\n",
    "print('Time constants: \\n', -1 / λ, 's \\n')\n",
    "print(f'Settling time: {t_resp:.0f} s')"
   ]
  },
  {
   "cell_type": "markdown",
   "id": "11e44c7f-14c5-46a0-94eb-0ef3c9dc549d",
   "metadata": {},
   "source": [
    "## Now that I have the time step, we can calculate the dynamic response of a system"
   ]
  },
  {
   "cell_type": "code",
   "execution_count": 19,
   "id": "836690c3-6f44-4399-a91b-252444e14ba2",
   "metadata": {},
   "outputs": [
    {
     "name": "stdout",
     "output_type": "stream",
     "text": [
      "Duration = 60 s\n",
      "Number of time steps = 60\n"
     ]
    },
    {
     "data": {
      "text/html": [
       "<div>\n",
       "<style scoped>\n",
       "    .dataframe tbody tr th:only-of-type {\n",
       "        vertical-align: middle;\n",
       "    }\n",
       "\n",
       "    .dataframe tbody tr th {\n",
       "        vertical-align: top;\n",
       "    }\n",
       "\n",
       "    .dataframe thead th {\n",
       "        text-align: right;\n",
       "    }\n",
       "</style>\n",
       "<table border=\"1\" class=\"dataframe\">\n",
       "  <thead>\n",
       "    <tr style=\"text-align: right;\">\n",
       "      <th></th>\n",
       "      <th>time</th>\n",
       "    </tr>\n",
       "  </thead>\n",
       "  <tbody>\n",
       "    <tr>\n",
       "      <th>0</th>\n",
       "      <td>0</td>\n",
       "    </tr>\n",
       "    <tr>\n",
       "      <th>1</th>\n",
       "      <td>1</td>\n",
       "    </tr>\n",
       "    <tr>\n",
       "      <th>2</th>\n",
       "      <td>2</td>\n",
       "    </tr>\n",
       "    <tr>\n",
       "      <th>3</th>\n",
       "      <td>3</td>\n",
       "    </tr>\n",
       "    <tr>\n",
       "      <th>4</th>\n",
       "      <td>4</td>\n",
       "    </tr>\n",
       "    <tr>\n",
       "      <th>5</th>\n",
       "      <td>5</td>\n",
       "    </tr>\n",
       "    <tr>\n",
       "      <th>6</th>\n",
       "      <td>6</td>\n",
       "    </tr>\n",
       "    <tr>\n",
       "      <th>7</th>\n",
       "      <td>7</td>\n",
       "    </tr>\n",
       "    <tr>\n",
       "      <th>8</th>\n",
       "      <td>8</td>\n",
       "    </tr>\n",
       "    <tr>\n",
       "      <th>9</th>\n",
       "      <td>9</td>\n",
       "    </tr>\n",
       "    <tr>\n",
       "      <th>10</th>\n",
       "      <td>10</td>\n",
       "    </tr>\n",
       "    <tr>\n",
       "      <th>11</th>\n",
       "      <td>11</td>\n",
       "    </tr>\n",
       "    <tr>\n",
       "      <th>12</th>\n",
       "      <td>12</td>\n",
       "    </tr>\n",
       "    <tr>\n",
       "      <th>13</th>\n",
       "      <td>13</td>\n",
       "    </tr>\n",
       "    <tr>\n",
       "      <th>14</th>\n",
       "      <td>14</td>\n",
       "    </tr>\n",
       "    <tr>\n",
       "      <th>15</th>\n",
       "      <td>15</td>\n",
       "    </tr>\n",
       "    <tr>\n",
       "      <th>16</th>\n",
       "      <td>16</td>\n",
       "    </tr>\n",
       "    <tr>\n",
       "      <th>17</th>\n",
       "      <td>17</td>\n",
       "    </tr>\n",
       "    <tr>\n",
       "      <th>18</th>\n",
       "      <td>18</td>\n",
       "    </tr>\n",
       "    <tr>\n",
       "      <th>19</th>\n",
       "      <td>19</td>\n",
       "    </tr>\n",
       "    <tr>\n",
       "      <th>20</th>\n",
       "      <td>20</td>\n",
       "    </tr>\n",
       "    <tr>\n",
       "      <th>21</th>\n",
       "      <td>21</td>\n",
       "    </tr>\n",
       "    <tr>\n",
       "      <th>22</th>\n",
       "      <td>22</td>\n",
       "    </tr>\n",
       "    <tr>\n",
       "      <th>23</th>\n",
       "      <td>23</td>\n",
       "    </tr>\n",
       "    <tr>\n",
       "      <th>24</th>\n",
       "      <td>24</td>\n",
       "    </tr>\n",
       "    <tr>\n",
       "      <th>25</th>\n",
       "      <td>25</td>\n",
       "    </tr>\n",
       "    <tr>\n",
       "      <th>26</th>\n",
       "      <td>26</td>\n",
       "    </tr>\n",
       "    <tr>\n",
       "      <th>27</th>\n",
       "      <td>27</td>\n",
       "    </tr>\n",
       "    <tr>\n",
       "      <th>28</th>\n",
       "      <td>28</td>\n",
       "    </tr>\n",
       "    <tr>\n",
       "      <th>29</th>\n",
       "      <td>29</td>\n",
       "    </tr>\n",
       "    <tr>\n",
       "      <th>30</th>\n",
       "      <td>30</td>\n",
       "    </tr>\n",
       "    <tr>\n",
       "      <th>31</th>\n",
       "      <td>31</td>\n",
       "    </tr>\n",
       "    <tr>\n",
       "      <th>32</th>\n",
       "      <td>32</td>\n",
       "    </tr>\n",
       "    <tr>\n",
       "      <th>33</th>\n",
       "      <td>33</td>\n",
       "    </tr>\n",
       "    <tr>\n",
       "      <th>34</th>\n",
       "      <td>34</td>\n",
       "    </tr>\n",
       "    <tr>\n",
       "      <th>35</th>\n",
       "      <td>35</td>\n",
       "    </tr>\n",
       "    <tr>\n",
       "      <th>36</th>\n",
       "      <td>36</td>\n",
       "    </tr>\n",
       "    <tr>\n",
       "      <th>37</th>\n",
       "      <td>37</td>\n",
       "    </tr>\n",
       "    <tr>\n",
       "      <th>38</th>\n",
       "      <td>38</td>\n",
       "    </tr>\n",
       "    <tr>\n",
       "      <th>39</th>\n",
       "      <td>39</td>\n",
       "    </tr>\n",
       "    <tr>\n",
       "      <th>40</th>\n",
       "      <td>40</td>\n",
       "    </tr>\n",
       "    <tr>\n",
       "      <th>41</th>\n",
       "      <td>41</td>\n",
       "    </tr>\n",
       "    <tr>\n",
       "      <th>42</th>\n",
       "      <td>42</td>\n",
       "    </tr>\n",
       "    <tr>\n",
       "      <th>43</th>\n",
       "      <td>43</td>\n",
       "    </tr>\n",
       "    <tr>\n",
       "      <th>44</th>\n",
       "      <td>44</td>\n",
       "    </tr>\n",
       "    <tr>\n",
       "      <th>45</th>\n",
       "      <td>45</td>\n",
       "    </tr>\n",
       "    <tr>\n",
       "      <th>46</th>\n",
       "      <td>46</td>\n",
       "    </tr>\n",
       "    <tr>\n",
       "      <th>47</th>\n",
       "      <td>47</td>\n",
       "    </tr>\n",
       "    <tr>\n",
       "      <th>48</th>\n",
       "      <td>48</td>\n",
       "    </tr>\n",
       "    <tr>\n",
       "      <th>49</th>\n",
       "      <td>49</td>\n",
       "    </tr>\n",
       "    <tr>\n",
       "      <th>50</th>\n",
       "      <td>50</td>\n",
       "    </tr>\n",
       "    <tr>\n",
       "      <th>51</th>\n",
       "      <td>51</td>\n",
       "    </tr>\n",
       "    <tr>\n",
       "      <th>52</th>\n",
       "      <td>52</td>\n",
       "    </tr>\n",
       "    <tr>\n",
       "      <th>53</th>\n",
       "      <td>53</td>\n",
       "    </tr>\n",
       "    <tr>\n",
       "      <th>54</th>\n",
       "      <td>54</td>\n",
       "    </tr>\n",
       "    <tr>\n",
       "      <th>55</th>\n",
       "      <td>55</td>\n",
       "    </tr>\n",
       "    <tr>\n",
       "      <th>56</th>\n",
       "      <td>56</td>\n",
       "    </tr>\n",
       "    <tr>\n",
       "      <th>57</th>\n",
       "      <td>57</td>\n",
       "    </tr>\n",
       "    <tr>\n",
       "      <th>58</th>\n",
       "      <td>58</td>\n",
       "    </tr>\n",
       "    <tr>\n",
       "      <th>59</th>\n",
       "      <td>59</td>\n",
       "    </tr>\n",
       "  </tbody>\n",
       "</table>\n",
       "</div>"
      ],
      "text/plain": [
       "    time\n",
       "0      0\n",
       "1      1\n",
       "2      2\n",
       "3      3\n",
       "4      4\n",
       "5      5\n",
       "6      6\n",
       "7      7\n",
       "8      8\n",
       "9      9\n",
       "10    10\n",
       "11    11\n",
       "12    12\n",
       "13    13\n",
       "14    14\n",
       "15    15\n",
       "16    16\n",
       "17    17\n",
       "18    18\n",
       "19    19\n",
       "20    20\n",
       "21    21\n",
       "22    22\n",
       "23    23\n",
       "24    24\n",
       "25    25\n",
       "26    26\n",
       "27    27\n",
       "28    28\n",
       "29    29\n",
       "30    30\n",
       "31    31\n",
       "32    32\n",
       "33    33\n",
       "34    34\n",
       "35    35\n",
       "36    36\n",
       "37    37\n",
       "38    38\n",
       "39    39\n",
       "40    40\n",
       "41    41\n",
       "42    42\n",
       "43    43\n",
       "44    44\n",
       "45    45\n",
       "46    46\n",
       "47    47\n",
       "48    48\n",
       "49    49\n",
       "50    50\n",
       "51    51\n",
       "52    52\n",
       "53    53\n",
       "54    54\n",
       "55    55\n",
       "56    56\n",
       "57    57\n",
       "58    58\n",
       "59    59"
      ]
     },
     "execution_count": 19,
     "metadata": {},
     "output_type": "execute_result"
    }
   ],
   "source": [
    "duration =  60       # seconds, larger than response time\n",
    "n = int(np.floor(duration / dt))    # number of time steps\n",
    "t = np.arange(0, n * dt, dt)        # time vector for n time steps\n",
    "\n",
    "print(f'Duration = {duration} s')\n",
    "print(f'Number of time steps = {n}')\n",
    "pd.DataFrame(t, columns=['time'])"
   ]
  },
  {
   "cell_type": "code",
   "execution_count": 20,
   "id": "ccb66ffc-2def-4dd9-9446-b3b0b5241c42",
   "metadata": {},
   "outputs": [
    {
     "name": "stdout",
     "output_type": "stream",
     "text": [
      "u = \n"
     ]
    },
    {
     "data": {
      "text/html": [
       "<div>\n",
       "<style scoped>\n",
       "    .dataframe tbody tr th:only-of-type {\n",
       "        vertical-align: middle;\n",
       "    }\n",
       "\n",
       "    .dataframe tbody tr th {\n",
       "        vertical-align: top;\n",
       "    }\n",
       "\n",
       "    .dataframe thead th {\n",
       "        text-align: right;\n",
       "    }\n",
       "</style>\n",
       "<table border=\"1\" class=\"dataframe\">\n",
       "  <thead>\n",
       "    <tr style=\"text-align: right;\">\n",
       "      <th></th>\n",
       "      <th>0</th>\n",
       "      <th>1</th>\n",
       "      <th>2</th>\n",
       "      <th>3</th>\n",
       "      <th>4</th>\n",
       "      <th>5</th>\n",
       "      <th>6</th>\n",
       "      <th>7</th>\n",
       "      <th>8</th>\n",
       "      <th>9</th>\n",
       "      <th>...</th>\n",
       "      <th>50</th>\n",
       "      <th>51</th>\n",
       "      <th>52</th>\n",
       "      <th>53</th>\n",
       "      <th>54</th>\n",
       "      <th>55</th>\n",
       "      <th>56</th>\n",
       "      <th>57</th>\n",
       "      <th>58</th>\n",
       "      <th>59</th>\n",
       "    </tr>\n",
       "  </thead>\n",
       "  <tbody>\n",
       "    <tr>\n",
       "      <th>0</th>\n",
       "      <td>20.0</td>\n",
       "      <td>20.0</td>\n",
       "      <td>20.0</td>\n",
       "      <td>20.0</td>\n",
       "      <td>20.0</td>\n",
       "      <td>20.0</td>\n",
       "      <td>20.0</td>\n",
       "      <td>20.0</td>\n",
       "      <td>20.0</td>\n",
       "      <td>20.0</td>\n",
       "      <td>...</td>\n",
       "      <td>20.0</td>\n",
       "      <td>20.0</td>\n",
       "      <td>20.0</td>\n",
       "      <td>20.0</td>\n",
       "      <td>20.0</td>\n",
       "      <td>20.0</td>\n",
       "      <td>20.0</td>\n",
       "      <td>20.0</td>\n",
       "      <td>20.0</td>\n",
       "      <td>20.0</td>\n",
       "    </tr>\n",
       "  </tbody>\n",
       "</table>\n",
       "<p>1 rows × 60 columns</p>\n",
       "</div>"
      ],
      "text/plain": [
       "     0     1     2     3     4     5     6     7     8     9   ...    50  \\\n",
       "0  20.0  20.0  20.0  20.0  20.0  20.0  20.0  20.0  20.0  20.0  ...  20.0   \n",
       "\n",
       "     51    52    53    54    55    56    57    58    59  \n",
       "0  20.0  20.0  20.0  20.0  20.0  20.0  20.0  20.0  20.0  \n",
       "\n",
       "[1 rows x 60 columns]"
      ]
     },
     "execution_count": 20,
     "metadata": {},
     "output_type": "execute_result"
    }
   ],
   "source": [
    "u = np.zeros([1, n])                # u = [non-zero temp sources]\n",
    "u[0:1, :] = 20 * np.ones([1, n])    # To = 10 for all time steps\n",
    "print('u = ')\n",
    "pd.DataFrame(u)"
   ]
  },
  {
   "cell_type": "markdown",
   "id": "737de586-4964-437a-b7c6-b9daa941e99a",
   "metadata": {},
   "source": [
    "## Time integration"
   ]
  },
  {
   "cell_type": "code",
   "execution_count": 21,
   "id": "fe0fe941-e1f7-4755-b8d0-78297234a43c",
   "metadata": {},
   "outputs": [],
   "source": [
    "n_s = As.shape[0]                      # number of state variables\n",
    "θ_exp = np.zeros([n_s, t.shape[0]])    # explicit Euler in time t\n",
    "θ_imp = np.zeros([n_s, t.shape[0]])    # implicit Euler in time t\n",
    "\n",
    "I = np.eye(n_s)                        # identity matrix\n",
    "\n",
    "for k in range(n - 1):\n",
    "    θ_exp[:, k + 1] = (I + dt * As) @\\\n",
    "        θ_exp[:, k] + dt * Bs @ u[:, k]\n",
    "    θ_imp[:, k + 1] = np.linalg.inv(I - dt * As) @\\\n",
    "        (θ_imp[:, k] + dt * Bs @ u[:, k])"
   ]
  },
  {
   "cell_type": "code",
   "execution_count": 22,
   "id": "9896db29-c333-444a-b31c-9642e5806e2f",
   "metadata": {},
   "outputs": [],
   "source": [
    "y_exp = Cs @ θ_exp + Ds @  u\n",
    "y_imp = Cs @ θ_imp + Ds @  u"
   ]
  },
  {
   "cell_type": "code",
   "execution_count": 23,
   "id": "d991f793-7542-488c-a6b1-b9b5de5e29e8",
   "metadata": {
    "tags": []
   },
   "outputs": [
    {
     "data": {
      "image/png": "[encoded data removed]",
      "text/plain": [
       "<Figure size 432x288 with 1 Axes>"
      ]
     },
     "metadata": {
      "needs_background": "light"
     },
     "output_type": "display_data"
    }
   ],
   "source": [
    "fig, ax = plt.subplots()\n",
    "ax.plot(t / 3600, y_exp.T, t / 3600, y_imp.T)\n",
    "ax.set(xlabel='Time [h]',\n",
    "       ylabel='$T_i$ [°C]',\n",
    "       title='Step input: To')\n",
    "ax.legend(['Implicit', 'Explicit'])\n",
    "plt.show()"
   ]
  },
  {
   "cell_type": "markdown",
   "id": "ff890d6a-33b9-464f-92fd-5b85e96519a3",
   "metadata": {},
   "source": [
    "## Simulation with weather data"
   ]
  },
  {
   "cell_type": "code",
   "execution_count": 24,
   "id": "86f8a453-a0b7-4e62-999d-cb31d58c99ff",
   "metadata": {},
   "outputs": [],
   "source": [
    "filename = './weather_data/CHE_VD_Nyon.Changins.067050_TMYx.2004-2018.epw'\n",
    "[data, meta] = dm4bem.read_epw(filename, coerce_year=None)\n",
    "weather = data[[\"temp_air\", \"dir_n_rad\", \"dif_h_rad\"]]\n",
    "del data"
   ]
  },
  {
   "cell_type": "markdown",
   "id": "2125b024-f84f-49a8-ba17-e20a6830f5e7",
   "metadata": {},
   "source": [
    "We want to reduce the data to a few days"
   ]
  },
  {
   "cell_type": "code",
   "execution_count": 25,
   "id": "713399a0-f1a5-41cb-bdc4-0496eb5c3ef8",
   "metadata": {},
   "outputs": [
    {
     "name": "stdout",
     "output_type": "stream",
     "text": [
      "2000-05-05 12:00:00 \tstart date\n",
      "2000-05-08 18:00:00 \tend date\n"
     ]
    }
   ],
   "source": [
    "start_date = '2000-05-05 12:00:00'\n",
    "end_date = '2000-05-08 18:00:00'\n",
    "\n",
    "print(f'{start_date} \\tstart date')\n",
    "print(f'{end_date} \\tend date')"
   ]
  },
  {
   "cell_type": "code",
   "execution_count": 26,
   "id": "50d1aa10-22d5-4187-b4b3-4eaa4d74019d",
   "metadata": {},
   "outputs": [
    {
     "data": {
      "text/html": [
       "<div>\n",
       "<style scoped>\n",
       "    .dataframe tbody tr th:only-of-type {\n",
       "        vertical-align: middle;\n",
       "    }\n",
       "\n",
       "    .dataframe tbody tr th {\n",
       "        vertical-align: top;\n",
       "    }\n",
       "\n",
       "    .dataframe thead th {\n",
       "        text-align: right;\n",
       "    }\n",
       "</style>\n",
       "<table border=\"1\" class=\"dataframe\">\n",
       "  <thead>\n",
       "    <tr style=\"text-align: right;\">\n",
       "      <th></th>\n",
       "      <th>temp_air</th>\n",
       "      <th>dir_n_rad</th>\n",
       "      <th>dif_h_rad</th>\n",
       "    </tr>\n",
       "  </thead>\n",
       "  <tbody>\n",
       "    <tr>\n",
       "      <th>2000-05-05 12:00:00+01:00</th>\n",
       "      <td>19.4</td>\n",
       "      <td>828</td>\n",
       "      <td>158</td>\n",
       "    </tr>\n",
       "    <tr>\n",
       "      <th>2000-05-05 13:00:00+01:00</th>\n",
       "      <td>20.0</td>\n",
       "      <td>844</td>\n",
       "      <td>146</td>\n",
       "    </tr>\n",
       "    <tr>\n",
       "      <th>2000-05-05 14:00:00+01:00</th>\n",
       "      <td>20.4</td>\n",
       "      <td>829</td>\n",
       "      <td>132</td>\n",
       "    </tr>\n",
       "    <tr>\n",
       "      <th>2000-05-05 15:00:00+01:00</th>\n",
       "      <td>20.5</td>\n",
       "      <td>755</td>\n",
       "      <td>137</td>\n",
       "    </tr>\n",
       "    <tr>\n",
       "      <th>2000-05-05 16:00:00+01:00</th>\n",
       "      <td>20.7</td>\n",
       "      <td>618</td>\n",
       "      <td>144</td>\n",
       "    </tr>\n",
       "    <tr>\n",
       "      <th>...</th>\n",
       "      <td>...</td>\n",
       "      <td>...</td>\n",
       "      <td>...</td>\n",
       "    </tr>\n",
       "    <tr>\n",
       "      <th>2000-05-08 13:00:00+01:00</th>\n",
       "      <td>17.0</td>\n",
       "      <td>773</td>\n",
       "      <td>215</td>\n",
       "    </tr>\n",
       "    <tr>\n",
       "      <th>2000-05-08 14:00:00+01:00</th>\n",
       "      <td>17.6</td>\n",
       "      <td>767</td>\n",
       "      <td>186</td>\n",
       "    </tr>\n",
       "    <tr>\n",
       "      <th>2000-05-08 15:00:00+01:00</th>\n",
       "      <td>17.9</td>\n",
       "      <td>746</td>\n",
       "      <td>149</td>\n",
       "    </tr>\n",
       "    <tr>\n",
       "      <th>2000-05-08 16:00:00+01:00</th>\n",
       "      <td>17.5</td>\n",
       "      <td>615</td>\n",
       "      <td>150</td>\n",
       "    </tr>\n",
       "    <tr>\n",
       "      <th>2000-05-08 17:00:00+01:00</th>\n",
       "      <td>16.9</td>\n",
       "      <td>435</td>\n",
       "      <td>127</td>\n",
       "    </tr>\n",
       "  </tbody>\n",
       "</table>\n",
       "<p>78 rows × 3 columns</p>\n",
       "</div>"
      ],
      "text/plain": [
       "                           temp_air  dir_n_rad  dif_h_rad\n",
       "2000-05-05 12:00:00+01:00      19.4        828        158\n",
       "2000-05-05 13:00:00+01:00      20.0        844        146\n",
       "2000-05-05 14:00:00+01:00      20.4        829        132\n",
       "2000-05-05 15:00:00+01:00      20.5        755        137\n",
       "2000-05-05 16:00:00+01:00      20.7        618        144\n",
       "...                             ...        ...        ...\n",
       "2000-05-08 13:00:00+01:00      17.0        773        215\n",
       "2000-05-08 14:00:00+01:00      17.6        767        186\n",
       "2000-05-08 15:00:00+01:00      17.9        746        149\n",
       "2000-05-08 16:00:00+01:00      17.5        615        150\n",
       "2000-05-08 17:00:00+01:00      16.9        435        127\n",
       "\n",
       "[78 rows x 3 columns]"
      ]
     },
     "execution_count": 26,
     "metadata": {},
     "output_type": "execute_result"
    }
   ],
   "source": [
    "weather.index = weather.index.map(lambda t: t.replace(year=2000))\n",
    "weather = weather[(\n",
    "    weather.index >= start_date) & (\n",
    "    weather.index < end_date)]\n",
    "\n",
    "pd.DataFrame(weather)"
   ]
  },
  {
   "cell_type": "markdown",
   "id": "d6656b82-d858-47ca-a028-6547edcbff85",
   "metadata": {},
   "source": [
    "### quick check the temperature on a graph"
   ]
  },
  {
   "cell_type": "code",
   "execution_count": 27,
   "id": "cb6a10ff-89ef-4483-a259-2cc49f4c6e9f",
   "metadata": {},
   "outputs": [
    {
     "data": {
      "image/png": "[encoded data removed]",
      "text/plain": [
       "<Figure size 432x288 with 1 Axes>"
      ]
     },
     "metadata": {
      "needs_background": "light"
     },
     "output_type": "display_data"
    }
   ],
   "source": [
    "weather[['temp_air']].plot()\n",
    "plt.xlabel(\"Time\")\n",
    "plt.ylabel(\"Dry-bulb air temperature (°C)\")\n",
    "plt.legend([])\n",
    "plt.show()"
   ]
  },
  {
   "cell_type": "markdown",
   "id": "27148713-f7c5-4ab5-b6b1-d3d0745242cc",
   "metadata": {},
   "source": [
    "The outdoor temperature is samples every hour. we have a 1second time step. We need to re-sample"
   ]
  },
  {
   "cell_type": "code",
   "execution_count": 28,
   "id": "1a71b44a-50a5-4bbf-b359-720b5000e47e",
   "metadata": {
    "tags": []
   },
   "outputs": [
    {
     "name": "stdout",
     "output_type": "stream",
     "text": [
      "One step in our simulation is 1 s\n",
      "the total number of hours we have in our simulation is : 78\n",
      "if every 1 seconds we have a step, then for the 78 hours we have:\n",
      "We have a total of 280800.0 steps\n"
     ]
    }
   ],
   "source": [
    "#number of steps in our simulation, one step is \n",
    "print('One step in our simulation is', dt , 's')\n",
    "hours = weather.shape[0]\n",
    "print('the total number of hours we have in our simulation is :', hours)\n",
    "# number of steps\n",
    "print('if every', dt ,'seconds we have a step, then for the 78 hours we have:')\n",
    "n = (int(hours*3600) / dt)\n",
    "print('We have a total of', n, 'steps')"
   ]
  },
  {
   "cell_type": "markdown",
   "id": "7820e6e9-85c4-4d69-a8ed-92cf5589af0a",
   "metadata": {},
   "source": [
    "We have the total number of steps in our time interval, now we can produce the temperature vector"
   ]
  },
  {
   "cell_type": "code",
   "execution_count": 29,
   "id": "a31bf006-6cd6-4e4e-8d8b-f843840b0504",
   "metadata": {},
   "outputs": [
    {
     "data": {
      "text/html": [
       "<div>\n",
       "<style scoped>\n",
       "    .dataframe tbody tr th:only-of-type {\n",
       "        vertical-align: middle;\n",
       "    }\n",
       "\n",
       "    .dataframe tbody tr th {\n",
       "        vertical-align: top;\n",
       "    }\n",
       "\n",
       "    .dataframe thead th {\n",
       "        text-align: right;\n",
       "    }\n",
       "</style>\n",
       "<table border=\"1\" class=\"dataframe\">\n",
       "  <thead>\n",
       "    <tr style=\"text-align: right;\">\n",
       "      <th></th>\n",
       "      <th>θ °C</th>\n",
       "    </tr>\n",
       "  </thead>\n",
       "  <tbody>\n",
       "    <tr>\n",
       "      <th>0</th>\n",
       "      <td>19.400000</td>\n",
       "    </tr>\n",
       "    <tr>\n",
       "      <th>1</th>\n",
       "      <td>19.400167</td>\n",
       "    </tr>\n",
       "    <tr>\n",
       "      <th>2</th>\n",
       "      <td>19.400333</td>\n",
       "    </tr>\n",
       "    <tr>\n",
       "      <th>3</th>\n",
       "      <td>19.400500</td>\n",
       "    </tr>\n",
       "    <tr>\n",
       "      <th>4</th>\n",
       "      <td>19.400667</td>\n",
       "    </tr>\n",
       "    <tr>\n",
       "      <th>...</th>\n",
       "      <td>...</td>\n",
       "    </tr>\n",
       "    <tr>\n",
       "      <th>280795</th>\n",
       "      <td>16.900000</td>\n",
       "    </tr>\n",
       "    <tr>\n",
       "      <th>280796</th>\n",
       "      <td>16.900000</td>\n",
       "    </tr>\n",
       "    <tr>\n",
       "      <th>280797</th>\n",
       "      <td>16.900000</td>\n",
       "    </tr>\n",
       "    <tr>\n",
       "      <th>280798</th>\n",
       "      <td>16.900000</td>\n",
       "    </tr>\n",
       "    <tr>\n",
       "      <th>280799</th>\n",
       "      <td>16.900000</td>\n",
       "    </tr>\n",
       "  </tbody>\n",
       "</table>\n",
       "<p>280800 rows × 1 columns</p>\n",
       "</div>"
      ],
      "text/plain": [
       "             θ °C\n",
       "0       19.400000\n",
       "1       19.400167\n",
       "2       19.400333\n",
       "3       19.400500\n",
       "4       19.400667\n",
       "...           ...\n",
       "280795  16.900000\n",
       "280796  16.900000\n",
       "280797  16.900000\n",
       "280798  16.900000\n",
       "280799  16.900000\n",
       "\n",
       "[280800 rows x 1 columns]"
      ]
     },
     "execution_count": 29,
     "metadata": {},
     "output_type": "execute_result"
    }
   ],
   "source": [
    "t = np.arange(0,  3600 * weather.shape[0], dt)\n",
    "tw = np.arange(0,  3600 * weather.shape[0], 3600)\n",
    "θ_out = np.interp(t, tw, weather['temp_air'])\n",
    "pd.DataFrame(t, columns=['time'])\n",
    "pd.DataFrame(θ_out, index=t, columns=['θ °C'])"
   ]
  },
  {
   "cell_type": "code",
   "execution_count": 30,
   "id": "824d1fa4-ac9d-499d-a5ac-29992902151a",
   "metadata": {},
   "outputs": [
    {
     "data": {
      "text/html": [
       "<div>\n",
       "<style scoped>\n",
       "    .dataframe tbody tr th:only-of-type {\n",
       "        vertical-align: middle;\n",
       "    }\n",
       "\n",
       "    .dataframe tbody tr th {\n",
       "        vertical-align: top;\n",
       "    }\n",
       "\n",
       "    .dataframe thead th {\n",
       "        text-align: right;\n",
       "    }\n",
       "</style>\n",
       "<table border=\"1\" class=\"dataframe\">\n",
       "  <thead>\n",
       "    <tr style=\"text-align: right;\">\n",
       "      <th></th>\n",
       "      <th>0</th>\n",
       "      <th>1</th>\n",
       "      <th>2</th>\n",
       "      <th>3</th>\n",
       "      <th>4</th>\n",
       "      <th>5</th>\n",
       "      <th>6</th>\n",
       "      <th>7</th>\n",
       "      <th>8</th>\n",
       "      <th>9</th>\n",
       "      <th>...</th>\n",
       "      <th>280790</th>\n",
       "      <th>280791</th>\n",
       "      <th>280792</th>\n",
       "      <th>280793</th>\n",
       "      <th>280794</th>\n",
       "      <th>280795</th>\n",
       "      <th>280796</th>\n",
       "      <th>280797</th>\n",
       "      <th>280798</th>\n",
       "      <th>280799</th>\n",
       "    </tr>\n",
       "  </thead>\n",
       "  <tbody>\n",
       "    <tr>\n",
       "      <th>To</th>\n",
       "      <td>19.4</td>\n",
       "      <td>19.400167</td>\n",
       "      <td>19.400333</td>\n",
       "      <td>19.4005</td>\n",
       "      <td>19.400667</td>\n",
       "      <td>19.400833</td>\n",
       "      <td>19.401</td>\n",
       "      <td>19.401167</td>\n",
       "      <td>19.401333</td>\n",
       "      <td>19.4015</td>\n",
       "      <td>...</td>\n",
       "      <td>16.9</td>\n",
       "      <td>16.9</td>\n",
       "      <td>16.9</td>\n",
       "      <td>16.9</td>\n",
       "      <td>16.9</td>\n",
       "      <td>16.9</td>\n",
       "      <td>16.9</td>\n",
       "      <td>16.9</td>\n",
       "      <td>16.9</td>\n",
       "      <td>16.9</td>\n",
       "    </tr>\n",
       "  </tbody>\n",
       "</table>\n",
       "<p>1 rows × 280800 columns</p>\n",
       "</div>"
      ],
      "text/plain": [
       "    0          1          2        3          4          5       6       \\\n",
       "To    19.4  19.400167  19.400333  19.4005  19.400667  19.400833  19.401   \n",
       "\n",
       "       7          8        9       ...  280790  280791  280792  280793  \\\n",
       "To  19.401167  19.401333  19.4015  ...    16.9    16.9    16.9    16.9   \n",
       "\n",
       "    280794  280795  280796  280797  280798  280799  \n",
       "To    16.9    16.9    16.9    16.9    16.9    16.9  \n",
       "\n",
       "[1 rows x 280800 columns]"
      ]
     },
     "execution_count": 30,
     "metadata": {},
     "output_type": "execute_result"
    }
   ],
   "source": [
    "u = np.block([[θ_out]])\n",
    "pd.DataFrame(u, index=['To'])"
   ]
  },
  {
   "cell_type": "markdown",
   "id": "bf9d3ff4-7913-444a-98ae-575b2fd4512c",
   "metadata": {},
   "source": [
    "## Time integration"
   ]
  },
  {
   "cell_type": "code",
   "execution_count": 31,
   "id": "c57d08a8-ca90-443e-ab0f-966454055067",
   "metadata": {},
   "outputs": [
    {
     "name": "stdout",
     "output_type": "stream",
     "text": [
      "(1, 280800)\n"
     ]
    }
   ],
   "source": [
    "θ_exp = np.zeros([1, t.shape[0]])\n",
    "θ_imp = np.zeros([1, t.shape[0]])\n",
    "\n",
    "print(θ_imp.shape)"
   ]
  },
  {
   "cell_type": "code",
   "execution_count": 32,
   "id": "35d81523-d899-47a8-b5c6-5bae55386ff7",
   "metadata": {},
   "outputs": [],
   "source": [
    "for k in range(u.shape[1] - 1):\n",
    "    θ_exp[:, k + 1] = (np.eye(1) + dt * As) @\\\n",
    "        θ_exp[:, k] + dt * Bs @ u[:, k]\n",
    "    θ_imp[:, k + 1] = np.linalg.inv(np.eye(1) - dt * As) @\\\n",
    "        (θ_imp[:, k] + dt * Bs @ u[:, k])\n"
   ]
  },
  {
   "cell_type": "code",
   "execution_count": 33,
   "id": "5ba2cae1-6f2d-4cf2-95cc-e9f59863a029",
   "metadata": {},
   "outputs": [
    {
     "name": "stdout",
     "output_type": "stream",
     "text": [
      "[[19.4        19.40016667 19.40033333 ... 16.9        16.9\n",
      "  16.9       ]]\n"
     ]
    }
   ],
   "source": [
    "print(u)"
   ]
  },
  {
   "cell_type": "code",
   "execution_count": 39,
   "id": "7fe727b6-3fc5-4dc3-8af7-dd24b6f457ea",
   "metadata": {},
   "outputs": [
    {
     "data": {
      "text/html": [
       "<div>\n",
       "<style scoped>\n",
       "    .dataframe tbody tr th:only-of-type {\n",
       "        vertical-align: middle;\n",
       "    }\n",
       "\n",
       "    .dataframe tbody tr th {\n",
       "        vertical-align: top;\n",
       "    }\n",
       "\n",
       "    .dataframe thead th {\n",
       "        text-align: right;\n",
       "    }\n",
       "</style>\n",
       "<table border=\"1\" class=\"dataframe\">\n",
       "  <thead>\n",
       "    <tr style=\"text-align: right;\">\n",
       "      <th></th>\n",
       "      <th>0</th>\n",
       "      <th>1</th>\n",
       "      <th>2</th>\n",
       "      <th>3</th>\n",
       "      <th>4</th>\n",
       "      <th>5</th>\n",
       "      <th>6</th>\n",
       "      <th>7</th>\n",
       "      <th>8</th>\n",
       "      <th>9</th>\n",
       "      <th>...</th>\n",
       "      <th>280790</th>\n",
       "      <th>280791</th>\n",
       "      <th>280792</th>\n",
       "      <th>280793</th>\n",
       "      <th>280794</th>\n",
       "      <th>280795</th>\n",
       "      <th>280796</th>\n",
       "      <th>280797</th>\n",
       "      <th>280798</th>\n",
       "      <th>280799</th>\n",
       "    </tr>\n",
       "  </thead>\n",
       "  <tbody>\n",
       "    <tr>\n",
       "      <th>0</th>\n",
       "      <td>0.0</td>\n",
       "      <td>2.282353</td>\n",
       "      <td>4.296213</td>\n",
       "      <td>6.073169</td>\n",
       "      <td>7.64109</td>\n",
       "      <td>9.02457</td>\n",
       "      <td>10.245307</td>\n",
       "      <td>11.322447</td>\n",
       "      <td>12.272885</td>\n",
       "      <td>13.111526</td>\n",
       "      <td>...</td>\n",
       "      <td>16.9</td>\n",
       "      <td>16.9</td>\n",
       "      <td>16.9</td>\n",
       "      <td>16.9</td>\n",
       "      <td>16.9</td>\n",
       "      <td>16.9</td>\n",
       "      <td>16.9</td>\n",
       "      <td>16.9</td>\n",
       "      <td>16.9</td>\n",
       "      <td>16.9</td>\n",
       "    </tr>\n",
       "  </tbody>\n",
       "</table>\n",
       "<p>1 rows × 280800 columns</p>\n",
       "</div>"
      ],
      "text/plain": [
       "   0         1         2         3        4        5          6       \\\n",
       "0     0.0  2.282353  4.296213  6.073169  7.64109  9.02457  10.245307   \n",
       "\n",
       "      7          8          9       ...  280790  280791  280792  280793  \\\n",
       "0  11.322447  12.272885  13.111526  ...    16.9    16.9    16.9    16.9   \n",
       "\n",
       "   280794  280795  280796  280797  280798  280799  \n",
       "0    16.9    16.9    16.9    16.9    16.9    16.9  \n",
       "\n",
       "[1 rows x 280800 columns]"
      ]
     },
     "execution_count": 39,
     "metadata": {},
     "output_type": "execute_result"
    }
   ],
   "source": [
    "pd.DataFrame(θ_imp)"
   ]
  },
  {
   "cell_type": "code",
   "execution_count": 35,
   "id": "02a3f933-2ef2-4b52-9e62-e615a6081769",
   "metadata": {},
   "outputs": [
    {
     "name": "stdout",
     "output_type": "stream",
     "text": [
      "[[ 0.          2.58666667  4.82846667 ... 16.9        16.9\n",
      "  16.9       ]]\n",
      "[ 0.          2.58666667  4.82846667 ... 16.9        16.9\n",
      " 16.9       ]\n"
     ]
    }
   ],
   "source": [
    "print(θ_exp)\n",
    "print(θ_exp[-1,:])\n"
   ]
  },
  {
   "cell_type": "code",
   "execution_count": 36,
   "id": "7ac910a2-a672-47d5-87e1-a0b9142d1526",
   "metadata": {},
   "outputs": [
    {
     "data": {
      "image/png": "[encoded data removed]",
      "text/plain": [
       "<Figure size 432x288 with 1 Axes>"
      ]
     },
     "metadata": {
      "needs_background": "light"
     },
     "output_type": "display_data"
    }
   ],
   "source": [
    "fig, ax = plt.subplots()\n",
    "ax.plot(t / 3600 / 24, θ_exp[-1, :], label='Indoor temperature')\n",
    "ax.plot(t / 3600 / 24, θ_out, label='Outdoor temperature')\n",
    "ax.set(xlabel='Time [days]',\n",
    "       ylabel='Air temperature [°C]',\n",
    "       title='Explicit Euler')\n",
    "ax.legend()\n",
    "plt.show()"
   ]
  },
  {
   "cell_type": "markdown",
   "id": "873f5d14-3b9b-486a-a4d6-ca9596263530",
   "metadata": {},
   "source": [
    "## Conclusion\n",
    "\n",
    "It looks like it is not working, but actually it is. If we open the scropt in pyhton and soom in, we can see that the **blue line follows perfectly the orange line**. That means that a simple wall like I modeled will not protects us from variations in the outdoor temperature. \n",
    "\n",
    "To solve this problem, we need a wall with an insulation, (= bigger accumulation capacity). more layers etc... \n"
   ]
  },
  {
   "cell_type": "code",
   "execution_count": null,
   "id": "e8df80f4-959f-4794-8d88-75107d11dccf",
   "metadata": {},
   "outputs": [],
   "source": []
  }
 ],
 "metadata": {
  "kernelspec": {
   "display_name": "Python 3 (ipykernel)",
   "language": "python",
   "name": "python3"
  },
  "language_info": {
   "codemirror_mode": {
    "name": "ipython",
    "version": 3
   },
   "file_extension": ".py",
   "mimetype": "text/x-python",
   "name": "python",
   "nbconvert_exporter": "python",
   "pygments_lexer": "ipython3",
   "version": "3.9.12"
  }
 },
 "nbformat": 4,
 "nbformat_minor": 5
}
